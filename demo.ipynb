{
 "cells": [
  {
   "cell_type": "code",
   "execution_count": 9,
   "metadata": {},
   "outputs": [],
   "source": [
    "import numpy as np\n",
    "import polars as pl\n",
    "import tensorflow as tf\n",
    "from scipy.stats import gamma\n",
    "from nn_intreg import IntReg"
   ]
  },
  {
   "cell_type": "code",
   "execution_count": 10,
   "metadata": {},
   "outputs": [],
   "source": [
    "# set seed for reproducibility of the synthetic data\n",
    "np.random.seed(500)\n",
    "# number of simulations for the synthetic data\n",
    "NSIM = 10000\n",
    "SHAPE_PAR = 1.6\n",
    "N_BINS = 30\n",
    "# define the covariates\n",
    "intercept_labels = [\"intercept\"]\n",
    "x1_labels = [\"foo\", \"bar\"]\n",
    "x2_labels = [\"apple\", \"orange\", \"lemon\"]\n",
    "# define the relativities\n",
    "intercept_factors = [16]\n",
    "x1_factors = [1.0, 1.07]\n",
    "x2_factors = [1.0, 0.95, 1.02]\n",
    "\n",
    "# function to collect covariates information\n",
    "def _helper_pl(cov_name, labels, factors):\n",
    "    return pl.DataFrame({cov_name: labels, f\"factor_{cov_name}\": factors})"
   ]
  },
  {
   "cell_type": "markdown",
   "metadata": {},
   "source": [
    "Simulate covariates"
   ]
  },
  {
   "cell_type": "code",
   "execution_count": 11,
   "metadata": {},
   "outputs": [
    {
     "data": {
      "text/html": [
       "<div><style>\n",
       ".dataframe > thead > tr,\n",
       ".dataframe > tbody > tr {\n",
       "  text-align: right;\n",
       "  white-space: pre-wrap;\n",
       "}\n",
       "</style>\n",
       "<small>shape: (5, 3)</small><table border=\"1\" class=\"dataframe\"><thead><tr><th>X1</th><th>X2</th><th>factor_total</th></tr><tr><td>str</td><td>str</td><td>f64</td></tr></thead><tbody><tr><td>&quot;bar&quot;</td><td>&quot;apple&quot;</td><td>17.12</td></tr><tr><td>&quot;foo&quot;</td><td>&quot;lemon&quot;</td><td>16.32</td></tr><tr><td>&quot;foo&quot;</td><td>&quot;orange&quot;</td><td>15.2</td></tr><tr><td>&quot;bar&quot;</td><td>&quot;apple&quot;</td><td>17.12</td></tr><tr><td>&quot;bar&quot;</td><td>&quot;lemon&quot;</td><td>17.4624</td></tr></tbody></table></div>"
      ],
      "text/plain": [
       "shape: (5, 3)\n",
       "┌─────┬────────┬──────────────┐\n",
       "│ X1  ┆ X2     ┆ factor_total │\n",
       "│ --- ┆ ---    ┆ ---          │\n",
       "│ str ┆ str    ┆ f64          │\n",
       "╞═════╪════════╪══════════════╡\n",
       "│ bar ┆ apple  ┆ 17.12        │\n",
       "│ foo ┆ lemon  ┆ 16.32        │\n",
       "│ foo ┆ orange ┆ 15.2         │\n",
       "│ bar ┆ apple  ┆ 17.12        │\n",
       "│ bar ┆ lemon  ┆ 17.4624      │\n",
       "└─────┴────────┴──────────────┘"
      ]
     },
     "execution_count": 11,
     "metadata": {},
     "output_type": "execute_result"
    }
   ],
   "source": [
    "sample = []\n",
    "# sampling of the labels and the factors\n",
    "for el in [\n",
    "    (\"intercept\", intercept_labels, intercept_factors),\n",
    "    (\"X1\", x1_labels, x1_factors),\n",
    "    (\"X2\", x2_labels, x2_factors),\n",
    "]:\n",
    "    cov_name, labels, factors = el\n",
    "    _df = _helper_pl(cov_name, labels, factors).sample(NSIM, with_replacement=True)\n",
    "    sample.append(_df)\n",
    "sample = pl.concat(sample, how=\"horizontal\")\n",
    "sample = (\n",
    "    sample.with_columns(l=pl.concat_list((pl.col(\"^factor_.*$\"))))\n",
    "    .with_columns(\n",
    "        factor_total=pl.col(\"l\").list.eval(pl.col(\"*\").product(), parallel=True)\n",
    "    )\n",
    "    .explode(\"factor_total\")\n",
    "    .select([\"X1\", \"X2\", \"factor_total\"])\n",
    ")\n",
    "sample.head()"
   ]
  },
  {
   "cell_type": "markdown",
   "metadata": {},
   "source": [
    "Simulate the response variable"
   ]
  },
  {
   "cell_type": "code",
   "execution_count": 12,
   "metadata": {},
   "outputs": [
    {
     "data": {
      "text/html": [
       "<div><style>\n",
       ".dataframe > thead > tr,\n",
       ".dataframe > tbody > tr {\n",
       "  text-align: right;\n",
       "  white-space: pre-wrap;\n",
       "}\n",
       "</style>\n",
       "<small>shape: (5, 5)</small><table border=\"1\" class=\"dataframe\"><thead><tr><th>X1</th><th>X2</th><th>left_break</th><th>right_break</th><th>factor_total</th></tr><tr><td>str</td><td>str</td><td>f32</td><td>f32</td><td>f64</td></tr></thead><tbody><tr><td>&quot;bar&quot;</td><td>&quot;apple&quot;</td><td>8.848387</td><td>9.615126</td><td>17.12</td></tr><tr><td>&quot;foo&quot;</td><td>&quot;lemon&quot;</td><td>13.963438</td><td>14.953102</td><td>16.32</td></tr><tr><td>&quot;foo&quot;</td><td>&quot;orange&quot;</td><td>9.615126</td><td>10.391552</td><td>15.2</td></tr><tr><td>&quot;bar&quot;</td><td>&quot;apple&quot;</td><td>5.719008</td><td>6.461315</td><td>17.12</td></tr><tr><td>&quot;bar&quot;</td><td>&quot;lemon&quot;</td><td>3.34258</td><td>4.18456</td><td>17.4624</td></tr></tbody></table></div>"
      ],
      "text/plain": [
       "shape: (5, 5)\n",
       "┌─────┬────────┬────────────┬─────────────┬──────────────┐\n",
       "│ X1  ┆ X2     ┆ left_break ┆ right_break ┆ factor_total │\n",
       "│ --- ┆ ---    ┆ ---        ┆ ---         ┆ ---          │\n",
       "│ str ┆ str    ┆ f32        ┆ f32         ┆ f64          │\n",
       "╞═════╪════════╪════════════╪═════════════╪══════════════╡\n",
       "│ bar ┆ apple  ┆ 8.848387   ┆ 9.615126    ┆ 17.12        │\n",
       "│ foo ┆ lemon  ┆ 13.963438  ┆ 14.953102   ┆ 16.32        │\n",
       "│ foo ┆ orange ┆ 9.615126   ┆ 10.391552   ┆ 15.2         │\n",
       "│ bar ┆ apple  ┆ 5.719008   ┆ 6.461315    ┆ 17.12        │\n",
       "│ bar ┆ lemon  ┆ 3.34258    ┆ 4.18456     ┆ 17.4624      │\n",
       "└─────┴────────┴────────────┴─────────────┴──────────────┘"
      ]
     },
     "execution_count": 12,
     "metadata": {},
     "output_type": "execute_result"
    }
   ],
   "source": [
    "\n",
    "y = gamma.rvs(size=NSIM, a=SHAPE_PAR, scale=sample[\"factor_total\"] / SHAPE_PAR)\n",
    "sample = (\n",
    "    sample.with_columns(y=pl.lit(y))\n",
    "    .with_columns(breaks=pl.col(\"y\").qcut(N_BINS, include_breaks=True))\n",
    "    .unnest(\"breaks\")\n",
    ")\n",
    "\n",
    "intervals = (\n",
    "    sample[\"y_bin\"]\n",
    "    .cast(str)\n",
    "    .str.strip_chars('( ] \"')\n",
    "    .str.split(\", \")\n",
    "    .list.to_struct()\n",
    "    .struct.rename_fields([\"left_break\", \"right_break\"])\n",
    "    .struct.unnest()\n",
    "    .cast(pl.Float32)\n",
    ")\n",
    "\n",
    "sample = pl.concat([sample, intervals], how=\"horizontal\").select(\n",
    "    [\"X1\", \"X2\", \"left_break\", \"right_break\", \"factor_total\"]\n",
    ")\n",
    "sample.head()"
   ]
  },
  {
   "cell_type": "markdown",
   "metadata": {},
   "source": [
    "Prepare the design matrix and the response matrix"
   ]
  },
  {
   "cell_type": "code",
   "execution_count": 13,
   "metadata": {},
   "outputs": [
    {
     "data": {
      "text/html": [
       "<div><style>\n",
       ".dataframe > thead > tr,\n",
       ".dataframe > tbody > tr {\n",
       "  text-align: right;\n",
       "  white-space: pre-wrap;\n",
       "}\n",
       "</style>\n",
       "<small>shape: (5, 6)</small><table border=\"1\" class=\"dataframe\"><thead><tr><th>X1_foo</th><th>X2_lemon</th><th>X2_orange</th><th>left_break</th><th>right_break</th><th>factor_total</th></tr><tr><td>u8</td><td>u8</td><td>u8</td><td>f32</td><td>f32</td><td>f64</td></tr></thead><tbody><tr><td>0</td><td>0</td><td>0</td><td>8.848387</td><td>9.615126</td><td>17.12</td></tr><tr><td>1</td><td>1</td><td>0</td><td>13.963438</td><td>14.953102</td><td>16.32</td></tr><tr><td>1</td><td>0</td><td>1</td><td>9.615126</td><td>10.391552</td><td>15.2</td></tr><tr><td>0</td><td>0</td><td>0</td><td>5.719008</td><td>6.461315</td><td>17.12</td></tr><tr><td>0</td><td>1</td><td>0</td><td>3.34258</td><td>4.18456</td><td>17.4624</td></tr></tbody></table></div>"
      ],
      "text/plain": [
       "shape: (5, 6)\n",
       "┌────────┬──────────┬───────────┬────────────┬─────────────┬──────────────┐\n",
       "│ X1_foo ┆ X2_lemon ┆ X2_orange ┆ left_break ┆ right_break ┆ factor_total │\n",
       "│ ---    ┆ ---      ┆ ---       ┆ ---        ┆ ---         ┆ ---          │\n",
       "│ u8     ┆ u8       ┆ u8        ┆ f32        ┆ f32         ┆ f64          │\n",
       "╞════════╪══════════╪═══════════╪════════════╪═════════════╪══════════════╡\n",
       "│ 0      ┆ 0        ┆ 0         ┆ 8.848387   ┆ 9.615126    ┆ 17.12        │\n",
       "│ 1      ┆ 1        ┆ 0         ┆ 13.963438  ┆ 14.953102   ┆ 16.32        │\n",
       "│ 1      ┆ 0        ┆ 1         ┆ 9.615126   ┆ 10.391552   ┆ 15.2         │\n",
       "│ 0      ┆ 0        ┆ 0         ┆ 5.719008   ┆ 6.461315    ┆ 17.12        │\n",
       "│ 0      ┆ 1        ┆ 0         ┆ 3.34258    ┆ 4.18456     ┆ 17.4624      │\n",
       "└────────┴──────────┴───────────┴────────────┴─────────────┴──────────────┘"
      ]
     },
     "execution_count": 13,
     "metadata": {},
     "output_type": "execute_result"
    }
   ],
   "source": [
    "X_y_train = sample.to_dummies([\"X1\", \"X2\"], drop_first=True)\n",
    "X_train = X_y_train.select(\n",
    "    pl.all().exclude([\"left_break\", \"right_break\", \"factor_total\"])\n",
    ").to_numpy()\n",
    "y_train = X_y_train.select([\"left_break\", \"right_break\"]).to_numpy()\n",
    "y_train = np.clip(y_train, 0.000001, 99999999)\n",
    "X_y_train.head()"
   ]
  },
  {
   "cell_type": "markdown",
   "metadata": {},
   "source": [
    "Build the model"
   ]
  },
  {
   "cell_type": "code",
   "execution_count": 14,
   "metadata": {},
   "outputs": [
    {
     "name": "stdout",
     "output_type": "stream",
     "text": [
      "313/313 [==============================] - 0s 778us/step\n",
      "Found shape:\n",
      "1.5860531\n",
      "True shape:\n",
      "1.6\n",
      "E(Y|X) check:\n",
      "shape: (6, 4)\n",
      "┌─────┬────────┬─────────┬───────────┐\n",
      "│ X1  ┆ X2     ┆ truth   ┆ model     │\n",
      "│ --- ┆ ---    ┆ ---     ┆ ---       │\n",
      "│ str ┆ str    ┆ f64     ┆ f32       │\n",
      "╞═════╪════════╪═════════╪═══════════╡\n",
      "│ bar ┆ orange ┆ 16.264  ┆ 16.209957 │\n",
      "│ bar ┆ lemon  ┆ 17.4624 ┆ 17.235085 │\n",
      "│ foo ┆ orange ┆ 15.2    ┆ 15.264956 │\n",
      "│ bar ┆ apple  ┆ 17.12   ┆ 16.896196 │\n",
      "│ foo ┆ lemon  ┆ 16.32   ┆ 16.230455 │\n",
      "│ foo ┆ apple  ┆ 16.0    ┆ 15.91115  │\n",
      "└─────┴────────┴─────────┴───────────┘\n"
     ]
    }
   ],
   "source": [
    "optimizer = tf.keras.optimizers.Adam(learning_rate=0.4)\n",
    "model = IntReg(optimizer)\n",
    "history = model.fit(X_train, y_train)\n",
    "scales_hat = model.predict(X_train)\n",
    "results = (\n",
    "    sample.with_columns(yhat=pl.lit(scales_hat.flatten()))\n",
    "    .group_by([\"X1\", \"X2\"])\n",
    "    .agg(truth=pl.col(\"factor_total\").mean(), model=pl.col(\"yhat\").mean())\n",
    ")\n",
    "print(\"Found shape:\")\n",
    "print(np.exp(model.layers[-1].get_vars().numpy()))\n",
    "print(\"True shape:\")\n",
    "print(SHAPE_PAR)\n",
    "print(\"E(Y|X) check:\")\n",
    "print(results)\n"
   ]
  }
 ],
 "metadata": {
  "kernelspec": {
   "display_name": "base",
   "language": "python",
   "name": "python3"
  },
  "language_info": {
   "codemirror_mode": {
    "name": "ipython",
    "version": 3
   },
   "file_extension": ".py",
   "mimetype": "text/x-python",
   "name": "python",
   "nbconvert_exporter": "python",
   "pygments_lexer": "ipython3",
   "version": "3.11.5"
  }
 },
 "nbformat": 4,
 "nbformat_minor": 2
}
